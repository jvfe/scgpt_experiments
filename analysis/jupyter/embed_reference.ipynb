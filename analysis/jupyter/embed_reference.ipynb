{
 "cells": [
  {
   "cell_type": "markdown",
   "id": "d2ce564a-8b00-4cff-85c0-31bc4d0ad974",
   "metadata": {},
   "source": [
    "## Embedding scRNA-seq reference"
   ]
  },
  {
   "cell_type": "code",
   "execution_count": 1,
   "id": "2d38daca-d1e3-44bf-98d6-1edc9b867cc6",
   "metadata": {},
   "outputs": [
    {
     "name": "stderr",
     "output_type": "stream",
     "text": [
      "/home/jvfcavalcante/scratch/miniforge3/envs/scgpt/lib/python3.8/site-packages/scgpt/model/model.py:21: UserWarning: flash_attn is not installed\n",
      "  warnings.warn(\"flash_attn is not installed\")\n",
      "/home/jvfcavalcante/scratch/miniforge3/envs/scgpt/lib/python3.8/site-packages/scgpt/model/multiomic_model.py:19: UserWarning: flash_attn is not installed\n",
      "  warnings.warn(\"flash_attn is not installed\")\n",
      "/home/jvfcavalcante/scratch/miniforge3/envs/scgpt/lib/python3.8/site-packages/tqdm/auto.py:21: TqdmWarning: IProgress not found. Please update jupyter and ipywidgets. See https://ipywidgets.readthedocs.io/en/stable/user_install.html\n",
      "  from .autonotebook import tqdm as notebook_tqdm\n",
      "/home/jvfcavalcante/scratch/miniforge3/envs/scgpt/lib/python3.8/site-packages/faiss/loader.py:28: DeprecationWarning: distutils Version classes are deprecated. Use packaging.version instead.\n",
      "  if LooseVersion(numpy.__version__) >= \"1.19\":\n",
      "/home/jvfcavalcante/scratch/miniforge3/envs/scgpt/lib/python3.8/site-packages/setuptools/_distutils/version.py:337: DeprecationWarning: distutils Version classes are deprecated. Use packaging.version instead.\n",
      "  other = LooseVersion(other)\n"
     ]
    }
   ],
   "source": [
    "from pathlib import Path\n",
    "import numpy as np\n",
    "from scipy.stats import mode\n",
    "import scanpy as sc\n",
    "import warnings\n",
    "from sklearn.metrics import accuracy_score, precision_score, recall_score, f1_score\n",
    "from sklearn.metrics import confusion_matrix\n",
    "import seaborn as sns\n",
    "import pandas as pd\n",
    "import sys\n",
    "\n",
    "sys.path.insert(0, \"../\")\n",
    "\n",
    "import scgpt as scg\n",
    "\n",
    "# extra dependency for similarity search\n",
    "try:\n",
    "    import faiss\n",
    "\n",
    "    faiss_imported = True\n",
    "except ImportError:\n",
    "    faiss_imported = False\n",
    "    print(\n",
    "        \"faiss not installed! We highly recommend installing it for fast similarity search.\"\n",
    "    )\n",
    "    print(\"To install it, see https://github.com/facebookresearch/faiss/wiki/Installing-Faiss\")\n",
    "\n",
    "warnings.filterwarnings(\"ignore\", category=ResourceWarning)"
   ]
  },
  {
   "cell_type": "markdown",
   "id": "1f7bfbf7-1ddb-4a38-9c72-46519dc493a3",
   "metadata": {},
   "source": [
    "Load reference dataset and define cell type and gene names.\n",
    "Then, embed dataset"
   ]
  },
  {
   "cell_type": "code",
   "execution_count": 2,
   "id": "624124d6-1e21-4535-8420-ecad8e84168f",
   "metadata": {},
   "outputs": [],
   "source": [
    "model_dir = Path(\"../../data/model/\")\n",
    "adata = sc.read_h5ad('../../data/blood_atlas_with_symbols.h5ad')\n",
    "\n",
    "cell_type_key = \"cell_type\"\n",
    "gene_col = \"name\""
   ]
  },
  {
   "cell_type": "code",
   "execution_count": 3,
   "id": "ee255707-0c71-4d88-a967-11a2f9e5485b",
   "metadata": {},
   "outputs": [
    {
     "name": "stdout",
     "output_type": "stream",
     "text": [
      "scGPT - INFO - match 38578/40789 genes in vocabulary of size 60697.\n"
     ]
    },
    {
     "name": "stderr",
     "output_type": "stream",
     "text": [
      "/home/jvfcavalcante/scratch/miniforge3/envs/scgpt/lib/python3.8/site-packages/scgpt/model/model.py:77: UserWarning: flash-attn is not installed, using pytorch transformer instead. Set use_fast_transformer=False to avoid this warning. Installing flash-attn is highly recommended.\n",
      "  warnings.warn(\n",
      "Embedding cells: 100%|██████████| 690/690 [02:48<00:00,  4.09it/s]\n"
     ]
    }
   ],
   "source": [
    "ref_embed_adata = scg.tasks.embed_data(\n",
    "    adata,\n",
    "    model_dir,\n",
    "    gene_col=gene_col,\n",
    "    batch_size=64,\n",
    ")"
   ]
  },
  {
   "cell_type": "markdown",
   "id": "7b83b3f7-4f9e-4413-b23b-46ff94ef6b6a",
   "metadata": {},
   "source": [
    "Save embedded data infomation in an h5ad file"
   ]
  },
  {
   "cell_type": "code",
   "execution_count": 4,
   "id": "eb97af1b-75a8-4961-a618-24c8aafef85b",
   "metadata": {},
   "outputs": [],
   "source": [
    "ref_embed_adata.write(f\"../../results/blood_sapiens_embeddings.h5ad\")"
   ]
  }
 ],
 "metadata": {
  "kernelspec": {
   "display_name": "Python 3 (ipykernel)",
   "language": "python",
   "name": "python3"
  },
  "language_info": {
   "codemirror_mode": {
    "name": "ipython",
    "version": 3
   },
   "file_extension": ".py",
   "mimetype": "text/x-python",
   "name": "python",
   "nbconvert_exporter": "python",
   "pygments_lexer": "ipython3",
   "version": "3.8.19"
  }
 },
 "nbformat": 4,
 "nbformat_minor": 5
}
